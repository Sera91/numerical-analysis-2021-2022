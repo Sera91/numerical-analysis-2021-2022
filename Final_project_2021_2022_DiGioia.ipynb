{
  "cells": [
    {
      "cell_type": "markdown",
      "metadata": {
        "id": "view-in-github",
        "colab_type": "text"
      },
      "source": [
        "<a href=\"https://colab.research.google.com/github/Sera91/numerical-analysis-2021-2022/blob/main/Final_project_2021_2022_DiGioia.ipynb\" target=\"_parent\"><img src=\"https://colab.research.google.com/assets/colab-badge.svg\" alt=\"Open In Colab\"/></a>"
      ]
    },
    {
      "cell_type": "code",
      "execution_count": 1,
      "metadata": {
        "id": "gTj-Va6bcKWc"
      },
      "outputs": [],
      "source": [
        "%matplotlib inline\n",
        "from numpy import *\n",
        "import matplotlib.pyplot as plt\n",
        "plt.style.use('seaborn-white')\n",
        "import scipy \n",
        "import scipy.linalg\n",
        "import pandas as pd"
      ],
      "id": "gTj-Va6bcKWc"
    },
    {
      "cell_type": "markdown",
      "metadata": {
        "id": "XlPS4kFOcKWj"
      },
      "source": [
        "Consider the following one-dimensional PDE:\n",
        "$$\n",
        "-u_{xx}(x) = f(x)\\quad\\mathrm{ in }\\ \\Omega = (0, \\pi)\n",
        "$$\n",
        "$$\n",
        "u(x) = 0, \\quad\\mathrm{ on }\\ \\partial\\Omega = \\{0, \\pi\\}\n",
        "$$\n",
        "\n",
        "Given the following $4^{th}$ order finite difference approximation of the second order derivative:\n",
        "\n",
        "$$u_{xx}(x_i) = \\frac{-u_{i-2}+16u_{i-1}-30u_i+16u_{i+1}-u_{i+2}}{12h^2}$$\n",
        "\n",
        "Implement a function that given the domain interval, the forcing function, the number of discretization points, the boundary conditions, returns the matrix $A$ and the the right hand side $b$."
      ],
      "id": "XlPS4kFOcKWj"
    },
    {
      "cell_type": "code",
      "execution_count": 2,
      "metadata": {
        "id": "DpqJUABJcKWm"
      },
      "outputs": [],
      "source": [
        "def finDif(omega,f,n,bc):\n",
        "    assert n>1\n",
        "    assert omega[1]>omega[0]\n",
        "    h   = (omega[1] - omega[0]) / (n-1)\n",
        "    #print(\"h\", h)\n",
        "    ood = ones((n-2,))     #off-off diagonal elements\n",
        "    od  = -16*ones((n-1,)) #off-diagonal terms\n",
        "    d   = 30*ones((n,))    #diagonal terms \n",
        "    A   = (diag(ood,-2) + diag(od,-1) + diag(d,0) + diag(od,+1) + diag(ood,+2))/(12.0*pow(h,2))\n",
        "\n",
        "    #print(A)\n",
        "\n",
        "    x= linspace(omega[0],omega[1],n)\n",
        "    b= f(x)  #forcing term on the right-hand side\n",
        "\n",
        "    #APPLYING BOUNDARY CONDITIONS    \n",
        "    # Change first row/column of the matrix A\n",
        "    A[0,:] = 0\n",
        "    A[:,0] = 0\n",
        "\n",
        "    # Change last row/column of the matrix A\n",
        "    A[-1,:] = 0\n",
        "    A[:,-1] = 0\n",
        "     \n",
        "\n",
        "    A[0,0] = A[-1,-1] = 1\n",
        "\n",
        "    #Change first term of b\n",
        "    b[0] = bc[0]/(12.0*pow(h,2))\n",
        "\n",
        "    \n",
        "    #Change last term of b\n",
        "    b[-1] = bc[1]/(12.0*pow(h,2))\n",
        "\n",
        "\n",
        "  \n",
        "    \n",
        "    \n",
        "    return A, b"
      ],
      "id": "DpqJUABJcKWm"
    },
    {
      "cell_type": "markdown",
      "metadata": {
        "id": "D6e4ruNIcKWo"
      },
      "source": [
        "Call the function using:"
      ],
      "id": "D6e4ruNIcKWo"
    },
    {
      "cell_type": "code",
      "execution_count": 3,
      "metadata": {
        "id": "oHQ6Vd7wcKWp"
      },
      "outputs": [],
      "source": [
        "omega = [0,pi]\n",
        "f = lambda x : sin(x)\n",
        "n=100\n",
        "bc = [0,0]\n",
        "A, b = finDif(omega,f, n, bc)\n",
        "#print(A)\n",
        "\n"
      ],
      "id": "oHQ6Vd7wcKWp"
    },
    {
      "cell_type": "markdown",
      "metadata": {
        "id": "UA6RIWNKcKWq"
      },
      "source": [
        "Implement two functions that compute the LU and the Cholesky factorization of the system matrix $A$"
      ],
      "id": "UA6RIWNKcKWq"
    },
    {
      "cell_type": "markdown",
      "source": [
        "**LU factorization**"
      ],
      "metadata": {
        "id": "3SPV7pkxO-w7"
      },
      "id": "3SPV7pkxO-w7"
    },
    {
      "cell_type": "code",
      "execution_count": 4,
      "metadata": {
        "id": "tDFSLE0pcKWq"
      },
      "outputs": [],
      "source": [
        "def LU(A):\n",
        "    A = A.copy()\n",
        "    N=len(A)\n",
        "    for k in range(N-1):\n",
        "        if (abs(A[k,k]) < 1e-15):\n",
        "            raise RuntimeError(\"Null pivot\")\n",
        "            \n",
        "        A[k+1:N,k] /= A[k,k]\n",
        "        for j in range(k+1,N):\n",
        "            A[k+1:N,j] -= A[k+1:N,k]*A[k,j]\n",
        "    \n",
        "    L=tril(A)\n",
        "    for i in range(N):\n",
        "        L[i,i]=1.0\n",
        "    U = triu(A)\n",
        "    return L, U\n",
        "\n",
        "\n",
        "L, U = LU(A)\n",
        "#print(L)\n"
      ],
      "id": "tDFSLE0pcKWq"
    },
    {
      "cell_type": "markdown",
      "source": [
        "**Cholesky decomposition**\n",
        "\n",
        "For symmetric and positive defined matrices, the Cholesky decomposition may be preferred respect to the LU factorization, since it reduces the number of flops for computing the LU decomposition by a factor of 2.\n",
        "\n",
        "The Cholesky decomposition seeks an upper triangular matrix H (with all positive elements on the diagonal) such that\n",
        "A=HTH\n",
        "\n",
        "An implementation of the Cholesky decomposition is provided in the following function. "
      ],
      "metadata": {
        "id": "h0USxmdsha7c"
      },
      "id": "h0USxmdsha7c"
    },
    {
      "cell_type": "code",
      "execution_count": 5,
      "metadata": {
        "id": "2NTAyi7VcKWt"
      },
      "outputs": [],
      "source": [
        "def cholesky(A):\n",
        "    A = A.copy()\n",
        "    #print(A)\n",
        "    N = len(A)\n",
        "    for k in range(N-1):\n",
        "        A[k,k] = sqrt(A[k,k])\n",
        "        A[k+1:N,k] = A[k+1:N,k]/A[k,k]\n",
        "        \n",
        "        for j in range(k+1,N):\n",
        "            A[j:N,j] = A[j:N,j] - (A[j:N,k]*A[j,k])\n",
        "            \n",
        "    A[-1,-1] = sqrt(A[-1,-1])\n",
        "    L=tril(A)\n",
        "    return L, L.transpose()\n",
        "\n",
        "HT, H = cholesky(A)"
      ],
      "id": "2NTAyi7VcKWt"
    },
    {
      "cell_type": "markdown",
      "metadata": {
        "id": "835fB09NcKWv"
      },
      "source": [
        "Implement forward and backward substitution functions to exploit the developed factorization methods to solve the derived linear system of equations."
      ],
      "id": "835fB09NcKWv"
    },
    {
      "cell_type": "code",
      "execution_count": 6,
      "metadata": {
        "id": "1N0HDatAcKWw"
      },
      "outputs": [],
      "source": [
        "def L_solve(L,rhs):\n",
        "    x = zeros_like(rhs)\n",
        "    N = len(L)\n",
        "        \n",
        "    x[0] = rhs[0]/L[0,0]\n",
        "    for i in range(1,N):\n",
        "        x[i] = (rhs[i] - dot(L[i, 0:i], x[0:i]))/L[i,i] \n",
        "    return x"
      ],
      "id": "1N0HDatAcKWw"
    },
    {
      "cell_type": "code",
      "execution_count": 7,
      "metadata": {
        "id": "qFAVrrlxcKWx"
      },
      "outputs": [],
      "source": [
        "def U_solve(U,rhs):\n",
        "    x = zeros_like(rhs)\n",
        "    N = len(U)\n",
        "        \n",
        "    x[-1] = rhs[-1]/U[-1,-1]\n",
        "    \n",
        "    for i in reversed(range(N-1)):\n",
        "        x[i] = (rhs[i] - dot(U[i, (i+1):N], x[(i+1):N]))/U[i,i]\n",
        "    \n",
        "    return x"
      ],
      "id": "qFAVrrlxcKWx"
    },
    {
      "cell_type": "markdown",
      "metadata": {
        "id": "AkyPJ1b5cKWy"
      },
      "source": [
        "Solve the derived linear system using the implemented functions and plot the computed solution:"
      ],
      "id": "AkyPJ1b5cKWy"
    },
    {
      "cell_type": "code",
      "execution_count": 8,
      "metadata": {
        "colab": {
          "base_uri": "https://localhost:8080/",
          "height": 280
        },
        "id": "P-P-E5a4cKWy",
        "outputId": "33f528ea-ecbd-49f3-bf97-2420ebedc942"
      },
      "outputs": [
        {
          "output_type": "execute_result",
          "data": {
            "text/plain": [
              "<matplotlib.legend.Legend at 0x7f56c4f5e310>"
            ]
          },
          "metadata": {},
          "execution_count": 8
        },
        {
          "output_type": "display_data",
          "data": {
            "image/png": "[encoded data removed]",
            "text/plain": [
              "<Figure size 432x288 with 1 Axes>"
            ]
          },
          "metadata": {
            "needs_background": "light"
          }
        }
      ],
      "source": [
        "\n",
        "y_LU = L_solve(L,b)\n",
        "u_LU = U_solve(U,y_LU)\n",
        "\n",
        "y_CH = L_solve(HT,b)\n",
        "u_CH = U_solve(H,y_CH)\n",
        "\n",
        "x=linspace(0,pi,n)\n",
        "_ = plt.plot(x,u_LU,'ro', label='LU' )\n",
        "_ = plt.plot(x,u_CH,'b', label='Cholesky')\n",
        "plt.legend(loc='best')"
      ],
      "id": "P-P-E5a4cKWy"
    },
    {
      "cell_type": "markdown",
      "metadata": {
        "id": "3c-uIqZ0cKWz"
      },
      "source": [
        "Considering the new domain $\\Omega = (0,1)$ and the forcing term $f(x) = x(1-x)$ with B.C. $u(x) = 0$, on $\\partial \\Omega = {0,1}$ produce a plot and a table where you show the decay of the error w.r.t. the number of grid points.\n",
        "(The analytical solution for the above problems is $u_{an} = \\frac{x^4}{12} - \\frac{x^3}{6} + \\frac{x}{12}$)"
      ],
      "id": "3c-uIqZ0cKWz"
    },
    {
      "cell_type": "code",
      "source": [
        "omega_new = [0,1]\n",
        "f_new = lambda x : x*(1-x)\n",
        "\n",
        "bc_new = [0,0]\n",
        "\n",
        "\n",
        "fsol_an= lambda x : (pow(x,4)/12 - pow(x,3)/6 + x/12)\n",
        "\n",
        "\n",
        "\n",
        "n_range = arange(10,501,10)\n",
        "\n",
        "arr_error_approx=zeros(len(n_range))\n",
        "\n",
        "for i,n_val in enumerate(n_range):\n",
        "  x=linspace(0,1,n_val)\n",
        "  A_new, b_new = finDif(omega_new, f_new, n_val, bc)\n",
        "  HT_new, H_new = cholesky(A_new)\n",
        "  y_new = L_solve(HT_new,b_new)\n",
        "  u_app = U_solve(H_new,y_new)\n",
        "  u_an = fsol_an(x)\n",
        "  arr_error_approx[i] = linalg.norm(abs(u_an - u_app), 2)\n",
        "\n",
        "#TABLE\n",
        "Table_errors = pd.DataFrame({'N' : n_range, 'error' : arr_error_approx})  \n",
        "display(Table_errors)\n",
        "\n",
        "#PLOT\n",
        "plt.title(\"Error decay - Absolute Error vs 'N'\")\n",
        "_ = plt.semilogy(n_range, error_approx, 'o-',color='green')"
      ],
      "metadata": {
        "colab": {
          "base_uri": "https://localhost:8080/",
          "height": 1000
        },
        "id": "1Nc3Da8N4rbS",
        "outputId": "8c79184a-f609-4b82-8c40-24f3c9a43cdb"
      },
      "id": "1Nc3Da8N4rbS",
      "execution_count": 20,
      "outputs": [
        {
          "output_type": "display_data",
          "data": {
            "text/html": [
              "\n",
              "  <div id=\"df-451f3acb-a033-48d1-bee2-af81ae04a799\">\n",
              "    <div class=\"colab-df-container\">\n",
              "      <div>\n",
              "<style scoped>\n",
              "    .dataframe tbody tr th:only-of-type {\n",
              "        vertical-align: middle;\n",
              "    }\n",
              "\n",
              "    .dataframe tbody tr th {\n",
              "        vertical-align: top;\n",
              "    }\n",
              "\n",
              "    .dataframe thead th {\n",
              "        text-align: right;\n",
              "    }\n",
              "</style>\n",
              "<table border=\"1\" class=\"dataframe\">\n",
              "  <thead>\n",
              "    <tr style=\"text-align: right;\">\n",
              "      <th></th>\n",
              "      <th>N</th>\n",
              "      <th>error</th>\n",
              "    </tr>\n",
              "  </thead>\n",
              "  <tbody>\n",
              "    <tr>\n",
              "      <th>0</th>\n",
              "      <td>10</td>\n",
              "      <td>0.001936</td>\n",
              "    </tr>\n",
              "    <tr>\n",
              "      <th>1</th>\n",
              "      <td>20</td>\n",
              "      <td>0.001419</td>\n",
              "    </tr>\n",
              "    <tr>\n",
              "      <th>2</th>\n",
              "      <td>30</td>\n",
              "      <td>0.001167</td>\n",
              "    </tr>\n",
              "    <tr>\n",
              "      <th>3</th>\n",
              "      <td>40</td>\n",
              "      <td>0.001013</td>\n",
              "    </tr>\n",
              "    <tr>\n",
              "      <th>4</th>\n",
              "      <td>50</td>\n",
              "      <td>0.000908</td>\n",
              "    </tr>\n",
              "    <tr>\n",
              "      <th>5</th>\n",
              "      <td>60</td>\n",
              "      <td>0.000829</td>\n",
              "    </tr>\n",
              "    <tr>\n",
              "      <th>6</th>\n",
              "      <td>70</td>\n",
              "      <td>0.000768</td>\n",
              "    </tr>\n",
              "    <tr>\n",
              "      <th>7</th>\n",
              "      <td>80</td>\n",
              "      <td>0.000719</td>\n",
              "    </tr>\n",
              "    <tr>\n",
              "      <th>8</th>\n",
              "      <td>90</td>\n",
              "      <td>0.000678</td>\n",
              "    </tr>\n",
              "    <tr>\n",
              "      <th>9</th>\n",
              "      <td>100</td>\n",
              "      <td>0.000643</td>\n",
              "    </tr>\n",
              "    <tr>\n",
              "      <th>10</th>\n",
              "      <td>110</td>\n",
              "      <td>0.000614</td>\n",
              "    </tr>\n",
              "    <tr>\n",
              "      <th>11</th>\n",
              "      <td>120</td>\n",
              "      <td>0.000588</td>\n",
              "    </tr>\n",
              "    <tr>\n",
              "      <th>12</th>\n",
              "      <td>130</td>\n",
              "      <td>0.000565</td>\n",
              "    </tr>\n",
              "    <tr>\n",
              "      <th>13</th>\n",
              "      <td>140</td>\n",
              "      <td>0.000544</td>\n",
              "    </tr>\n",
              "    <tr>\n",
              "      <th>14</th>\n",
              "      <td>150</td>\n",
              "      <td>0.000526</td>\n",
              "    </tr>\n",
              "    <tr>\n",
              "      <th>15</th>\n",
              "      <td>160</td>\n",
              "      <td>0.000509</td>\n",
              "    </tr>\n",
              "    <tr>\n",
              "      <th>16</th>\n",
              "      <td>170</td>\n",
              "      <td>0.000494</td>\n",
              "    </tr>\n",
              "    <tr>\n",
              "      <th>17</th>\n",
              "      <td>180</td>\n",
              "      <td>0.000480</td>\n",
              "    </tr>\n",
              "    <tr>\n",
              "      <th>18</th>\n",
              "      <td>190</td>\n",
              "      <td>0.000467</td>\n",
              "    </tr>\n",
              "    <tr>\n",
              "      <th>19</th>\n",
              "      <td>200</td>\n",
              "      <td>0.000455</td>\n",
              "    </tr>\n",
              "    <tr>\n",
              "      <th>20</th>\n",
              "      <td>210</td>\n",
              "      <td>0.000444</td>\n",
              "    </tr>\n",
              "    <tr>\n",
              "      <th>21</th>\n",
              "      <td>220</td>\n",
              "      <td>0.000434</td>\n",
              "    </tr>\n",
              "    <tr>\n",
              "      <th>22</th>\n",
              "      <td>230</td>\n",
              "      <td>0.000425</td>\n",
              "    </tr>\n",
              "    <tr>\n",
              "      <th>23</th>\n",
              "      <td>240</td>\n",
              "      <td>0.000416</td>\n",
              "    </tr>\n",
              "    <tr>\n",
              "      <th>24</th>\n",
              "      <td>250</td>\n",
              "      <td>0.000407</td>\n",
              "    </tr>\n",
              "    <tr>\n",
              "      <th>25</th>\n",
              "      <td>260</td>\n",
              "      <td>0.000400</td>\n",
              "    </tr>\n",
              "    <tr>\n",
              "      <th>26</th>\n",
              "      <td>270</td>\n",
              "      <td>0.000392</td>\n",
              "    </tr>\n",
              "    <tr>\n",
              "      <th>27</th>\n",
              "      <td>280</td>\n",
              "      <td>0.000385</td>\n",
              "    </tr>\n",
              "    <tr>\n",
              "      <th>28</th>\n",
              "      <td>290</td>\n",
              "      <td>0.000378</td>\n",
              "    </tr>\n",
              "    <tr>\n",
              "      <th>29</th>\n",
              "      <td>300</td>\n",
              "      <td>0.000372</td>\n",
              "    </tr>\n",
              "    <tr>\n",
              "      <th>30</th>\n",
              "      <td>310</td>\n",
              "      <td>0.000366</td>\n",
              "    </tr>\n",
              "    <tr>\n",
              "      <th>31</th>\n",
              "      <td>320</td>\n",
              "      <td>0.000360</td>\n",
              "    </tr>\n",
              "    <tr>\n",
              "      <th>32</th>\n",
              "      <td>330</td>\n",
              "      <td>0.000355</td>\n",
              "    </tr>\n",
              "    <tr>\n",
              "      <th>33</th>\n",
              "      <td>340</td>\n",
              "      <td>0.000349</td>\n",
              "    </tr>\n",
              "    <tr>\n",
              "      <th>34</th>\n",
              "      <td>350</td>\n",
              "      <td>0.000344</td>\n",
              "    </tr>\n",
              "    <tr>\n",
              "      <th>35</th>\n",
              "      <td>360</td>\n",
              "      <td>0.000340</td>\n",
              "    </tr>\n",
              "    <tr>\n",
              "      <th>36</th>\n",
              "      <td>370</td>\n",
              "      <td>0.000335</td>\n",
              "    </tr>\n",
              "    <tr>\n",
              "      <th>37</th>\n",
              "      <td>380</td>\n",
              "      <td>0.000331</td>\n",
              "    </tr>\n",
              "    <tr>\n",
              "      <th>38</th>\n",
              "      <td>390</td>\n",
              "      <td>0.000326</td>\n",
              "    </tr>\n",
              "    <tr>\n",
              "      <th>39</th>\n",
              "      <td>400</td>\n",
              "      <td>0.000322</td>\n",
              "    </tr>\n",
              "    <tr>\n",
              "      <th>40</th>\n",
              "      <td>410</td>\n",
              "      <td>0.000318</td>\n",
              "    </tr>\n",
              "    <tr>\n",
              "      <th>41</th>\n",
              "      <td>420</td>\n",
              "      <td>0.000314</td>\n",
              "    </tr>\n",
              "    <tr>\n",
              "      <th>42</th>\n",
              "      <td>430</td>\n",
              "      <td>0.000311</td>\n",
              "    </tr>\n",
              "    <tr>\n",
              "      <th>43</th>\n",
              "      <td>440</td>\n",
              "      <td>0.000307</td>\n",
              "    </tr>\n",
              "    <tr>\n",
              "      <th>44</th>\n",
              "      <td>450</td>\n",
              "      <td>0.000304</td>\n",
              "    </tr>\n",
              "    <tr>\n",
              "      <th>45</th>\n",
              "      <td>460</td>\n",
              "      <td>0.000300</td>\n",
              "    </tr>\n",
              "    <tr>\n",
              "      <th>46</th>\n",
              "      <td>470</td>\n",
              "      <td>0.000297</td>\n",
              "    </tr>\n",
              "    <tr>\n",
              "      <th>47</th>\n",
              "      <td>480</td>\n",
              "      <td>0.000294</td>\n",
              "    </tr>\n",
              "    <tr>\n",
              "      <th>48</th>\n",
              "      <td>490</td>\n",
              "      <td>0.000291</td>\n",
              "    </tr>\n",
              "    <tr>\n",
              "      <th>49</th>\n",
              "      <td>500</td>\n",
              "      <td>0.000288</td>\n",
              "    </tr>\n",
              "  </tbody>\n",
              "</table>\n",
              "</div>\n",
              "      <button class=\"colab-df-convert\" onclick=\"convertToInteractive('df-451f3acb-a033-48d1-bee2-af81ae04a799')\"\n",
              "              title=\"Convert this dataframe to an interactive table.\"\n",
              "              style=\"display:none;\">\n",
              "        \n",
              "  <svg xmlns=\"http://www.w3.org/2000/svg\" height=\"24px\"viewBox=\"0 0 24 24\"\n",
              "       width=\"24px\">\n",
              "    <path d=\"M0 0h24v24H0V0z\" fill=\"none\"/>\n",
              "    <path d=\"M18.56 5.44l.94 2.06.94-2.06 2.06-.94-2.06-.94-.94-2.06-.94 2.06-2.06.94zm-11 1L8.5 8.5l.94-2.06 2.06-.94-2.06-.94L8.5 2.5l-.94 2.06-2.06.94zm10 10l.94 2.06.94-2.06 2.06-.94-2.06-.94-.94-2.06-.94 2.06-2.06.94z\"/><path d=\"M17.41 7.96l-1.37-1.37c-.4-.4-.92-.59-1.43-.59-.52 0-1.04.2-1.43.59L10.3 9.45l-7.72 7.72c-.78.78-.78 2.05 0 2.83L4 21.41c.39.39.9.59 1.41.59.51 0 1.02-.2 1.41-.59l7.78-7.78 2.81-2.81c.8-.78.8-2.07 0-2.86zM5.41 20L4 18.59l7.72-7.72 1.47 1.35L5.41 20z\"/>\n",
              "  </svg>\n",
              "      </button>\n",
              "      \n",
              "  <style>\n",
              "    .colab-df-container {\n",
              "      display:flex;\n",
              "      flex-wrap:wrap;\n",
              "      gap: 12px;\n",
              "    }\n",
              "\n",
              "    .colab-df-convert {\n",
              "      background-color: #E8F0FE;\n",
              "      border: none;\n",
              "      border-radius: 50%;\n",
              "      cursor: pointer;\n",
              "      display: none;\n",
              "      fill: #1967D2;\n",
              "      height: 32px;\n",
              "      padding: 0 0 0 0;\n",
              "      width: 32px;\n",
              "    }\n",
              "\n",
              "    .colab-df-convert:hover {\n",
              "      background-color: #E2EBFA;\n",
              "      box-shadow: 0px 1px 2px rgba(60, 64, 67, 0.3), 0px 1px 3px 1px rgba(60, 64, 67, 0.15);\n",
              "      fill: #174EA6;\n",
              "    }\n",
              "\n",
              "    [theme=dark] .colab-df-convert {\n",
              "      background-color: #3B4455;\n",
              "      fill: #D2E3FC;\n",
              "    }\n",
              "\n",
              "    [theme=dark] .colab-df-convert:hover {\n",
              "      background-color: #434B5C;\n",
              "      box-shadow: 0px 1px 3px 1px rgba(0, 0, 0, 0.15);\n",
              "      filter: drop-shadow(0px 1px 2px rgba(0, 0, 0, 0.3));\n",
              "      fill: #FFFFFF;\n",
              "    }\n",
              "  </style>\n",
              "\n",
              "      <script>\n",
              "        const buttonEl =\n",
              "          document.querySelector('#df-451f3acb-a033-48d1-bee2-af81ae04a799 button.colab-df-convert');\n",
              "        buttonEl.style.display =\n",
              "          google.colab.kernel.accessAllowed ? 'block' : 'none';\n",
              "\n",
              "        async function convertToInteractive(key) {\n",
              "          const element = document.querySelector('#df-451f3acb-a033-48d1-bee2-af81ae04a799');\n",
              "          const dataTable =\n",
              "            await google.colab.kernel.invokeFunction('convertToInteractive',\n",
              "                                                     [key], {});\n",
              "          if (!dataTable) return;\n",
              "\n",
              "          const docLinkHtml = 'Like what you see? Visit the ' +\n",
              "            '<a target=\"_blank\" href=https://colab.research.google.com/notebooks/data_table.ipynb>data table notebook</a>'\n",
              "            + ' to learn more about interactive tables.';\n",
              "          element.innerHTML = '';\n",
              "          dataTable['output_type'] = 'display_data';\n",
              "          await google.colab.output.renderOutput(dataTable, element);\n",
              "          const docLink = document.createElement('div');\n",
              "          docLink.innerHTML = docLinkHtml;\n",
              "          element.appendChild(docLink);\n",
              "        }\n",
              "      </script>\n",
              "    </div>\n",
              "  </div>\n",
              "  "
            ],
            "text/plain": [
              "      N     error\n",
              "0    10  0.001936\n",
              "1    20  0.001419\n",
              "2    30  0.001167\n",
              "3    40  0.001013\n",
              "4    50  0.000908\n",
              "5    60  0.000829\n",
              "6    70  0.000768\n",
              "7    80  0.000719\n",
              "8    90  0.000678\n",
              "9   100  0.000643\n",
              "10  110  0.000614\n",
              "11  120  0.000588\n",
              "12  130  0.000565\n",
              "13  140  0.000544\n",
              "14  150  0.000526\n",
              "15  160  0.000509\n",
              "16  170  0.000494\n",
              "17  180  0.000480\n",
              "18  190  0.000467\n",
              "19  200  0.000455\n",
              "20  210  0.000444\n",
              "21  220  0.000434\n",
              "22  230  0.000425\n",
              "23  240  0.000416\n",
              "24  250  0.000407\n",
              "25  260  0.000400\n",
              "26  270  0.000392\n",
              "27  280  0.000385\n",
              "28  290  0.000378\n",
              "29  300  0.000372\n",
              "30  310  0.000366\n",
              "31  320  0.000360\n",
              "32  330  0.000355\n",
              "33  340  0.000349\n",
              "34  350  0.000344\n",
              "35  360  0.000340\n",
              "36  370  0.000335\n",
              "37  380  0.000331\n",
              "38  390  0.000326\n",
              "39  400  0.000322\n",
              "40  410  0.000318\n",
              "41  420  0.000314\n",
              "42  430  0.000311\n",
              "43  440  0.000307\n",
              "44  450  0.000304\n",
              "45  460  0.000300\n",
              "46  470  0.000297\n",
              "47  480  0.000294\n",
              "48  490  0.000291\n",
              "49  500  0.000288"
            ]
          },
          "metadata": {}
        },
        {
          "output_type": "display_data",
          "data": {
            "image/png": "[encoded data removed]",
            "text/plain": [
              "<Figure size 432x288 with 1 Axes>"
            ]
          },
          "metadata": {
            "needs_background": "light"
          }
        }
      ]
    },
    {
      "cell_type": "markdown",
      "metadata": {
        "id": "lZcInoqqcKW0"
      },
      "source": [
        "Exploit the derived LU factorizations to compute the condition number of the system's matrix $A$ using the original problem formulation."
      ],
      "id": "lZcInoqqcKW0"
    },
    {
      "cell_type": "code",
      "source": [
        "# Power Method Function \n",
        "def Power_Method(A,z0,tol,nmax):\n",
        "    q = z0/(linalg.norm(z0,2))\n",
        "    it = 0\n",
        "    err = tol + 1.\n",
        "    \n",
        "    while it < nmax and err > tol:\n",
        "        z = dot(A,q)\n",
        "        l = dot(q.T,z)\n",
        "        err = linalg.norm(z-l*q,2)\n",
        "        q = z/linalg.norm(z,2)\n",
        "        it += 1\n",
        "    \n",
        "    return l,q\n"
      ],
      "metadata": {
        "id": "uWsW2kwg5oIH"
      },
      "id": "uWsW2kwg5oIH",
      "execution_count": 11,
      "outputs": []
    },
    {
      "cell_type": "code",
      "source": [
        "# Inverse Power Method Function \n",
        "def I_Power_Method(A,x0,mu,tol,nmax):\n",
        "    I = eye(len(A))\n",
        "    M = A - mu*I\n",
        "    L,U = LU(M)\n",
        "    q = x0/linalg.norm(x0,2)\n",
        "    err = tol + 1.0\n",
        "    it = 0\n",
        "    \n",
        "    while it < nmax and err > tol:\n",
        "        y = L_solve(L,q)\n",
        "        x = U_solve(U,y)\n",
        "        q = x/linalg.norm(x,2)\n",
        "        z = dot(A,q)\n",
        "        l = dot(q.T,z)\n",
        "        err = linalg.norm(z-l*q,2)\n",
        "        it += 1\n",
        "    return l,q "
      ],
      "metadata": {
        "id": "6HxAib_25nyS"
      },
      "id": "6HxAib_25nyS",
      "execution_count": 12,
      "outputs": []
    },
    {
      "cell_type": "code",
      "source": [
        "#CONDITION NUMBER \n",
        "def condNumb(A):\n",
        "    z0 = random.rand(A.shape[0])\n",
        "    mu = 0.0\n",
        "    tol = 1.e-6\n",
        "    nmax = 10000\n",
        "    lmax = Power_Method(A,z0,tol,nmax)[0]\n",
        "    #print(lmax)\n",
        "    lmin = I_Power_Method(A,z0,mu,tol,nmax)[0]\n",
        "    condNu = lmax/lmin\n",
        "    \n",
        "    return condNu\n",
        "\n",
        "print(condNumb(A))\n",
        "print(linalg.cond(A))"
      ],
      "metadata": {
        "colab": {
          "base_uri": "https://localhost:8080/"
        },
        "id": "O8Lma34y5nYt",
        "outputId": "41cf777d-aae4-4db4-f580-295000036900"
      },
      "id": "O8Lma34y5nYt",
      "execution_count": 13,
      "outputs": [
        {
          "output_type": "stream",
          "name": "stdout",
          "text": [
            "5294.59801445038\n",
            "5294.598016140671\n"
          ]
        }
      ]
    },
    {
      "cell_type": "markdown",
      "metadata": {
        "id": "OFaP8Q27cKW2"
      },
      "source": [
        "Implement a preconditioned Conjugant Gradient method to solve the original linear system of equations using an iterative method:"
      ],
      "id": "OFaP8Q27cKW2"
    },
    {
      "cell_type": "code",
      "execution_count": 14,
      "metadata": {
        "id": "lZRWx7f0cKW3",
        "colab": {
          "base_uri": "https://localhost:8080/",
          "height": 368
        },
        "outputId": "4c803779-f7b9-4057-e352-859542c8a6e0"
      },
      "outputs": [
        {
          "output_type": "stream",
          "name": "stdout",
          "text": [
            "Precision achieved. Iterations: 50\n",
            "Difference between the PCG sol and the LU sol:\n",
            "7.144872527823964e-14\n",
            "Difference between the PCG sol and the Scipy sol:\n",
            "6.551409247055097e-14\n"
          ]
        },
        {
          "output_type": "display_data",
          "data": {
            "image/png": "[encoded data removed]",
            "text/plain": [
              "<Figure size 432x288 with 1 Axes>"
            ]
          },
          "metadata": {
            "needs_background": "light"
          }
        }
      ],
      "source": [
        "def PCG(A, b, P, nmax=len(A), eps=1e-10):\n",
        " \n",
        "    tol = eps + 0.1\n",
        "    iter = 0\n",
        "    x = zeros_like(b)\n",
        "    residual = b - dot(A,x)\n",
        "    rho_old = 1.\n",
        "    p_old = zeros_like(b)\n",
        "    while (iter < nmax and tol > eps):\n",
        "        iter += 1\n",
        "        z = linalg.solve(P,residual)\n",
        "        rho = dot(residual,z)\n",
        "        if (iter > 1):\n",
        "            beta = rho/rho_old\n",
        "            p = z + beta*p_old\n",
        "        else:\n",
        "            p = z\n",
        "        q = dot(A,p)\n",
        "        alpha = rho/(dot(p,q))\n",
        "        x += p*alpha\n",
        "        residual -= q*alpha\n",
        "        p_old = p\n",
        "        rho_old = rho\n",
        "        tol = linalg.norm(residual,2)  \n",
        "\n",
        "    if iter <nmax:\n",
        "        print('Precision achieved. Iterations:', iter)\n",
        "    else:\n",
        "        print('Convergence failed.')\n",
        "\n",
        "    return x\n",
        "\n",
        "\n",
        "\n",
        "x=linspace(omega[0],omega[1],n)\n",
        "sol_conjugate_gradient = PCG(A,b,identity(len(A)))\n",
        "\n",
        "# Old solution\n",
        "w = L_solve(L,b)\n",
        "u = U_solve(U,w)\n",
        "\n",
        "# Scipy solution\n",
        "\n",
        "u_ex = scipy.linalg.solve(A, b)\n",
        "# plot\n",
        "plt.title('Comparison of exact and PCG solutions')\n",
        "_ = plt.plot(x,sol_conjugate_gradient,'yo', label='PCG')\n",
        "_ = plt.plot(x,u_ex,'g', label='exact')\n",
        "plt.legend(loc='best')\n",
        "\n",
        "print(\"Difference between the PCG sol and the LU sol:\")\n",
        "print(linalg.norm(sol_conjugate_gradient - u)/linalg.norm(u))\n",
        "\n",
        "print(\"Difference between the PCG sol and the Scipy sol:\")\n",
        "print(linalg.norm(sol_conjugate_gradient-u_ex)/linalg.norm(u_ex))\n"
      ],
      "id": "lZRWx7f0cKW3"
    },
    {
      "cell_type": "markdown",
      "metadata": {
        "id": "wO5xEjzPcKW3"
      },
      "source": [
        "Consider the following time dependent variation of the PDE starting from the orginal problem formulation:\n",
        "$$\n",
        "u'(t)-u_{xx} = \\alpha(t)f(x)\n",
        "$$\n",
        "\n",
        "for $t\\in [0,T]$, with $\\alpha(t) = \\cos(t)$ and $T = 6\\pi$\n",
        "\n",
        "Use the same finite difference scheme to derive the semi-discrete formulation and solve it using a forward Euler's method.\n",
        "\n",
        "Plot the time dependent solution solution at $x = \\pi/2$, $x=1$, \n",
        "$x=\\pi$\n"
      ],
      "id": "wO5xEjzPcKW3"
    },
    {
      "cell_type": "markdown",
      "source": [
        "First, we discretize the time using the Forward Euler approximation for the first derivative with respect to $t$ : \n",
        "$$ \\frac{∂ u}{∂ t} (x, t) \\sim  \\frac{u(x, t_{n+1} ) - u (x, t_n)}{h_t}$$\n",
        "This allows us to rewrite the time-dependent solution of the PDE as:\n",
        "$$ u(x, t_{n+1} ) = u (x, t_n) + h_t u_{xx} (x, t_n) + h_t \\alpha (t_n) f (x) $$\n",
        "\n",
        "Then, we adopt the finite difference scheme used in the first point for the spatial derivative:\n",
        "$$u_{xx}(x_i,t) = \\frac{-u(x_{i-2},t)+16u(x_{i-1}, t)-30u(x_i, t)+16u(x_{i+1}, t) -u (x_{i+2}, t)}{12h_x^2}$$\n",
        "and substituting this in the previous expression, we obtain\n",
        "\n",
        "$$ u(x_i, t_{n+1} ) = u (x_i, t_n) + h_t  \\frac{-u(x_{i-2},t)+16u(x_{i-1}, t)-30u(x_i, t)+16u(x_{i+1}, t) -u (x_{i+2}, t)}{12h_x^2} + h_t \\alpha (t_n) f (x_i) $$\n",
        "\n",
        "that can be rewritten in a more useful form as:\n",
        "$$ u(x_i, t_{n+1} ) =   h_t  \\frac{-u(x_{i-2},t)+16u(x_{i-1}, t)+(-30 + 12 h_x^2/h_t) u(x_i, t)+16u(x_{i+1}, t) -u (x_{i+2}, t)}{12h_x^2} + h_t \\alpha (t_n) f (x_i) $$ ."
      ],
      "metadata": {
        "id": "LCWUadC8VE2C"
      },
      "id": "LCWUadC8VE2C"
    },
    {
      "cell_type": "code",
      "source": [
        "def Forward_Euler(u0, f, alpha, Omega_x, Omega_t, Nx, Nt):\n",
        "    if not isinstance(u0, ndarray):\n",
        "        u0 = u0*ones(Nx)\n",
        "    \n",
        "    ht = (Omega_t[1] - Omega_t[0]) / (Nt-1)\n",
        "    hx = (Omega_x[1] - Omega_x[0]) / (Nx-1)\n",
        "    \n",
        "    xs = linspace(Omega_x[0],Omega_x[1], Nx)\n",
        "    ts = linspace(Omega_t[0],Omega_t[1], Nt)\n",
        "\n",
        "    #A = zeros((Nx,Nx), dtype=float)\n",
        " \n",
        "    ood = -1.0*ones((Nx-2,))\n",
        "    od  = 16*ones((Nx-1,))\n",
        "    d   = (-30 + 12.0*pow(hx,2)/ht)*ones((Nx,))\n",
        "    A   = (diag(ood,-2) + diag(od,-1) + diag(d,0) + diag(od,+1) + diag(ood,+2))\n",
        "    A   = ht*A/(12.0*pow(hx,2))\n",
        "    A[0,:]= 0\n",
        "    A[-1,:]=0\n",
        "    \n",
        "    f = vectorize(f)(xs)\n",
        "    \n",
        "    u = zeros((Nx, Nt), dtype=float)\n",
        "    u[:,0] = u0\n",
        "    \n",
        "    # boundary conditions\n",
        "    u[[0,-1],0] = 0\n",
        "    f[[0,-1]] = 0\n",
        "    \n",
        "    for i in range(1,Nt):\n",
        "        u[:,i] = A.dot(u[:,i-1]) + ht * alpha(i*ht) * f\n",
        "        \n",
        "    return xs,ts,u\n",
        "\n",
        "\n",
        "\n",
        "\n",
        "alpha_function = lambda x: cos(x)\n",
        "f = lambda x: sin(x)\n",
        "\n",
        "x_50, t_50, u_50 = Forward_Euler(0, f, alpha_function, (0,pi), (0,6*pi), Nx=50, Nt=100000)\n",
        "x_1000, t_1000, u_1000 = Forward_Euler(0, f, alpha_function, (0,pi), (0,6*pi), Nx=1000, Nt=100000)\n",
        "\n",
        "\n",
        "\n",
        "#time dependent solution solution at x=π/2, x=1, x=π\n",
        "\n",
        "def plot_xfixed_solution(xs,ts,u,Nx,Nt):\n",
        "\n",
        "    pi_2_idx = argmin(abs(xs - pi/2))\n",
        "    one_idx = argmin(abs(xs - 1))\n",
        "    pi_idx = -1\n",
        "    \n",
        "    approx_pi2 = round(xs[pi_2_idx],4)\n",
        "    approx_one = round(xs[one_idx],4)\n",
        "    approx_pi = round(xs[pi_idx], 4)\n",
        "\n",
        "    time_slice = slice(None,None,100)\n",
        "\n",
        "    \n",
        "    plt.plot(ts[time_slice], u[pi_2_idx,time_slice], '-', color='blue', label=r'$x=\\pi/2$' )\n",
        "    plt.plot(ts[time_slice], u[one_idx,time_slice], '-.', color='violet', label='x=1')\n",
        "    plt.plot(ts[time_slice], u[pi_idx,time_slice], '--', color='purple', label=r'$x=\\pi$')\n",
        "\n",
        "    plt.xticks([i*pi for i in range(7)], ['0', *('{}$\\\\pi$'.format(i) for i in range(1,7))])\n",
        "\n",
        "    plt.xlabel('t')\n",
        "    plt.ylabel('u(x,t)')\n",
        "\n",
        "    plt.title('Time dependent solution (Nx={}, Nt={})'.format(Nx,Nt))\n",
        "    plt.legend(loc='best')\n",
        "    \n",
        "print(\"Initial condition: y(0)=0\")\n",
        "x_100, t_100, u_100 = Forward_Euler(0, f, alpha_function, (0,pi), (0,6*pi), Nx=100, Nt=100000)\n",
        "plt.figure(1)\n",
        "plot_xfixed_solution(x_100, t_100, u_100, 100, 100000)\n",
        "plt.show()\n",
        "\n",
        "print(\"Initial condition: y(0)=sin(x)\")\n",
        "\n",
        "N_x=100\n",
        "x=linspace(0,pi,N_x)\n",
        "\n",
        "x_100, t_100, u_100 = Forward_Euler(sin(x), f, alpha_function, (0,pi), (0,6*pi), Nx=N_x, Nt=100000)\n",
        "\n",
        "plt.figure(2)\n",
        "plot_xfixed_solution(x_100, t_100, u_100, 100, 100000)\n",
        "plt.show()"
      ],
      "metadata": {
        "id": "TObfBGCMU7Gy",
        "colab": {
          "base_uri": "https://localhost:8080/",
          "height": 605
        },
        "outputId": "0ce4d58c-5a86-4730-9abc-1501c1000b67"
      },
      "id": "TObfBGCMU7Gy",
      "execution_count": 26,
      "outputs": [
        {
          "output_type": "stream",
          "name": "stdout",
          "text": [
            "Initial condition: y(0)=0\n"
          ]
        },
        {
          "output_type": "display_data",
          "data": {
            "image/png": "[encoded data removed]",
            "text/plain": [
              "<Figure size 432x288 with 1 Axes>"
            ]
          },
          "metadata": {
            "needs_background": "light"
          }
        },
        {
          "output_type": "stream",
          "name": "stdout",
          "text": [
            "Initial condition: y(0)=sin(x)\n"
          ]
        },
        {
          "output_type": "display_data",
          "data": {
            "image/png": "[encoded data removed]",
            "text/plain": [
              "<Figure size 432x288 with 1 Axes>"
            ]
          },
          "metadata": {
            "needs_background": "light"
          }
        }
      ]
    },
    {
      "cell_type": "markdown",
      "metadata": {
        "id": "jQjA_iN0cKW3"
      },
      "source": [
        "Given the original $Au = b$ system, implement an algorithm to compute the eigenvalues and eigenvectors of the matrix $A$. Exploit the computed LU factorization"
      ],
      "id": "jQjA_iN0cKW3"
    },
    {
      "cell_type": "code",
      "execution_count": 16,
      "metadata": {
        "id": "IY8U-8tzcKW4",
        "colab": {
          "base_uri": "https://localhost:8080/"
        },
        "outputId": "c5c07ac5-1cc0-40b0-8af1-bbbd8baf223a"
      },
      "outputs": [
        {
          "output_type": "stream",
          "name": "stdout",
          "text": [
            "max discrepancy lambda: 1.318767317570746e-11\n"
          ]
        }
      ],
      "source": [
        "def eigenvalues_LU(A,tol,Nmax_iterations=2000):\n",
        "    B = A.copy()\n",
        "    eigval_old = diag(B)\n",
        "    err = tol+1.0\n",
        "    it = 0\n",
        "    \n",
        "    while it < Nmax_iterations and err > tol:\n",
        "        L,U = LU(B)\n",
        "        B = matmul(U,L)\n",
        "        eigval_new = diag(B)  \n",
        "        err = linalg.norm(eigval_new - eigval_old,2)\n",
        "        it += 1\n",
        "        eigval_old = eigval_new\n",
        "        \n",
        "    return eigval_new\n",
        "\n",
        "def eigenvectors_LU(A,tol,nmax):\n",
        "    \"\"\"\n",
        "    this function estimates the eigenvectors of the matrix A\n",
        "    using the Inverse Power Method with shift, and exploiting \n",
        "    the LU decomposition of A for the estimation of the eigenvalues.\n",
        "    \"\"\"\n",
        "\n",
        "    eigvecs = zeros_like(A)\n",
        "    n=A.shape[0]\n",
        "    q = random.rand(n)\n",
        "    eigvals = eigenvalues_LU(A,tol,1000)\n",
        "    new_eigvals = zeros(len(eigvals))\n",
        "    for i in range(len(eigvals)):\n",
        "        eigval_val, eigvec_val = I_Power_Method(A,q,eigvals[i]+tol,tol,nmax)\n",
        "        new_eigvals[i] = eigval_val\n",
        "        eigvecs[i,:] = eigvec_val\n",
        "         \n",
        "    return new_eigvals, eigvecs\n",
        "\n",
        "nmax = 10000\n",
        "tol = 1e-10\n",
        "eigenvalues=eigenvalues_LU(A,tol,1000)\n",
        "shifted_eigenvalues, eigenvectors = eigenvectors_LU(A,tol,nmax)\n",
        "\n",
        "eigenvalues_numpy,eigenvectors_numpy = linalg.eig(A)\n",
        "\n",
        "diff_lambda= sort(shifted_eigenvalues)-sort(eigenvalues_numpy)\n",
        "\n",
        "#print(diff_lambda)\n",
        "\n",
        "print('max discrepancy lambda:', max(diff_lambda))"
      ],
      "id": "IY8U-8tzcKW4"
    },
    {
      "cell_type": "markdown",
      "metadata": {
        "id": "0OOqoKYhcKW4"
      },
      "source": [
        "Compute the inverse of the matrix A exploiting the derived LU factorization"
      ],
      "id": "0OOqoKYhcKW4"
    },
    {
      "cell_type": "code",
      "execution_count": 17,
      "metadata": {
        "colab": {
          "base_uri": "https://localhost:8080/"
        },
        "id": "l5eD9UzCcKW5",
        "outputId": "219dc5e8-b13d-439b-c588-db5902c97bce"
      },
      "outputs": [
        {
          "output_type": "stream",
          "name": "stdout",
          "text": [
            "Max difference between the numpy inverse and our estimated inverse matrix : \n",
            "2.813721478034381e-15\n"
          ]
        }
      ],
      "source": [
        "from scipy.linalg import solve\n",
        "\n",
        "I = identity(n)\n",
        "Y= solve(L,I,lower=True)\n",
        "A_inv_LU = solve(U,Y)\n",
        "\n",
        "\n",
        "\n",
        "\n",
        "A_inv_numpy = linalg.inv(A)\n",
        "\n",
        "print(\"Max difference between the numpy inverse and our estimated inverse matrix : \")\n",
        "print(max(abs(A_inv_LU - A_inv_numpy).max(axis=0)))\n",
        "\n",
        "\n",
        "#print(A_inverse)\n"
      ],
      "id": "l5eD9UzCcKW5"
    },
    {
      "cell_type": "markdown",
      "metadata": {
        "id": "lA58-2ogcKW5"
      },
      "source": [
        "Consider the following Cauchy problem\n",
        "$$\n",
        "\\begin{cases}\n",
        "y'= -ty^2 \\quad 0\\le t \\le 2\\\\\n",
        "y(0) = 1\n",
        "\\end{cases}\n",
        "$$\n",
        "Implement a Backward Euler's method in a suitable function and solve the resulting non-linear equation using a Newton's method."
      ],
      "id": "lA58-2ogcKW5"
    },
    {
      "cell_type": "code",
      "source": [
        "# Newton's Method function\n",
        "def Newton(f,f_prime,x0,eps,nmax):\n",
        "    assert abs(f_prime(x0)) > 1e-16\n",
        "    err = abs(f(x0))\n",
        "    errors = [err]\n",
        "    it = 0\n",
        "    x = x0\n",
        "    \n",
        "    while (err > eps and it < nmax):\n",
        "        qk = f_prime(x)\n",
        "        if abs(qk) < 1e-12:\n",
        "            raise RuntimeError(\"f_prime(x) is close to zero\")\n",
        "        \n",
        "        x_new = x - f(x)/qk \n",
        "        err = abs(f(x_new))\n",
        "        \n",
        "        x = x_new\n",
        "        errors.append(err)\n",
        "        it += 1\n",
        "            \n",
        "        #plt.semilogy(errors)\n",
        "\n",
        "    return x, errors\n",
        "\n",
        "# Backward Euler Method function\n",
        "def B_Euler(y0,t0,tf,h):\n",
        "    timesteps = arange(t0, tf+1e-10, h)\n",
        "    t = timesteps\n",
        "    sol = zeros_like(timesteps)\n",
        "    sol[0] = y0\n",
        "    eps = 1e-5\n",
        "    n_max = 1000\n",
        "    \n",
        "    for i in range(1, len(sol)):\n",
        "        f = lambda y: t[i]*h*y**2 + y - sol[i-1]\n",
        "        df = lambda y: 2*t[i]*h*y + 1\n",
        "        sol[i],_ = Newton(f, df, sol[i-1], eps, n_max)\n",
        "\n",
        "    return sol, timesteps\n",
        "\n",
        "# Plot solution of Cauchy Problem\n",
        "\n",
        "t_0 = 0.0\n",
        "t_f = 2.0\n",
        "y0 = 1.0\n",
        "\n",
        "y,t = B_Euler(y0, t_0, t_f, 0.05)\n",
        "y_ex = 2.0/(t*t + 2.0)\n",
        "\n",
        "plt.title(\"Solution of $y'=-ty^2 , y(0)=1$\" )\n",
        "plt.grid(True)\n",
        "plt.plot(t, y, 'rd', label='estimated solution')\n",
        "plt.plot(t, y_ex, linestyle='dashed', color='black', label='exact solution')\n",
        "plt.legend()"
      ],
      "metadata": {
        "colab": {
          "base_uri": "https://localhost:8080/",
          "height": 300
        },
        "id": "Xg8X-otg-Ipo",
        "outputId": "2f6ba68f-abbf-4784-cbb2-13c0b6abc150"
      },
      "id": "Xg8X-otg-Ipo",
      "execution_count": 25,
      "outputs": [
        {
          "output_type": "execute_result",
          "data": {
            "text/plain": [
              "<matplotlib.legend.Legend at 0x7f56bdf50a10>"
            ]
          },
          "metadata": {},
          "execution_count": 25
        },
        {
          "output_type": "display_data",
          "data": {
            "image/png": "[encoded data removed]",
            "text/plain": [
              "<Figure size 432x288 with 1 Axes>"
            ]
          },
          "metadata": {
            "needs_background": "light"
          }
        }
      ]
    }
  ],
  "metadata": {
    "kernelspec": {
      "display_name": "Python 3",
      "language": "python",
      "name": "python3"
    },
    "language_info": {
      "codemirror_mode": {
        "name": "ipython",
        "version": 3
      },
      "file_extension": ".py",
      "mimetype": "text/x-python",
      "name": "python",
      "nbconvert_exporter": "python",
      "pygments_lexer": "ipython3",
      "version": "3.6.9"
    },
    "colab": {
      "name": "Final-Final-project-2021-2022-DiGioia.ipynb",
      "provenance": [],
      "collapsed_sections": [],
      "include_colab_link": true
    }
  },
  "nbformat": 4,
  "nbformat_minor": 5
}