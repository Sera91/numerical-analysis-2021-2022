{
  "cells": [
    {
      "cell_type": "markdown",
      "metadata": {
        "id": "view-in-github",
        "colab_type": "text"
      },
      "source": [
        "<a href=\"https://colab.research.google.com/github/Sera91/numerical-analysis-2021-2022/blob/main/Final_project_2021_2022_DiGioia.ipynb\" target=\"_parent\"><img src=\"https://colab.research.google.com/assets/colab-badge.svg\" alt=\"Open In Colab\"/></a>"
      ]
    },
    {
      "cell_type": "code",
      "execution_count": 2,
      "metadata": {
        "id": "gTj-Va6bcKWc"
      },
      "outputs": [],
      "source": [
        "%matplotlib inline\n",
        "from numpy import *\n",
        "import matplotlib.pyplot as plt\n",
        "plt.style.use('seaborn-white')\n",
        "import scipy \n",
        "import scipy.linalg\n",
        "import pandas as pd"
      ],
      "id": "gTj-Va6bcKWc"
    },
    {
      "cell_type": "markdown",
      "metadata": {
        "id": "XlPS4kFOcKWj"
      },
      "source": [
        "Consider the following one-dimensional PDE:\n",
        "$$\n",
        "-u_{xx}(x) = f(x)\\quad\\mathrm{ in }\\ \\Omega = (0, \\pi)\n",
        "$$\n",
        "$$\n",
        "u(x) = 0, \\quad\\mathrm{ on }\\ \\partial\\Omega = \\{0, \\pi\\}\n",
        "$$\n",
        "\n",
        "Given the following $4^{th}$ order finite difference approximation of the second order derivative:\n",
        "\n",
        "$$u_{xx}(x_i) = \\frac{-u_{i-2}+16u_{i-1}-30u_i+16u_{i+1}-u_{i+2}}{12h^2}$$\n",
        "\n",
        "Implement a function that given the domain interval, the forcing function, the number of discretization points, the boundary conditions, returns the matrix $A$ and the the right hand side $b$."
      ],
      "id": "XlPS4kFOcKWj"
    },
    {
      "cell_type": "code",
      "execution_count": 3,
      "metadata": {
        "id": "DpqJUABJcKWm"
      },
      "outputs": [],
      "source": [
        "def finDif(omega,f,n,bc):\n",
        "    assert n>1\n",
        "    assert omega[1]>omega[0]\n",
        "    h   = (omega[1] - omega[0]) / (n-1)\n",
        "    #print(\"h\", h)\n",
        "    ood = ones((n-2,))     #off-off diagonal elements\n",
        "    od  = -16*ones((n-1,)) #off-diagonal terms\n",
        "    d   = 30*ones((n,))    #diagonal terms \n",
        "    A   = (diag(ood,-2) + diag(od,-1) + diag(d,0) + diag(od,+1) + diag(ood,+2))/(12.0*pow(h,2))\n",
        "\n",
        "    #print(A)\n",
        "\n",
        "    x= linspace(omega[0],omega[1],n)\n",
        "    b= f(x)  #forcing term on the right-hand side\n",
        "\n",
        "    #APPLYING BOUNDARY CONDITIONS    \n",
        "    # Change first row/column of the matrix A\n",
        "    A[0,:] = 0\n",
        "    A[:,0] = 0\n",
        "\n",
        "    # Change last row/column of the matrix A\n",
        "    A[-1,:] = 0\n",
        "    A[:,-1] = 0\n",
        "     \n",
        "\n",
        "    A[0,0] = A[-1,-1] = 1\n",
        "\n",
        "    #Change first term of b\n",
        "    b[0] = bc[0]\n",
        "\n",
        "    \n",
        "    #Change last term of b\n",
        "    b[-1] = bc[1]\n",
        "\n",
        "\n",
        "  \n",
        "    \n",
        "    \n",
        "    return A, b"
      ],
      "id": "DpqJUABJcKWm"
    },
    {
      "cell_type": "markdown",
      "metadata": {
        "id": "D6e4ruNIcKWo"
      },
      "source": [
        "Call the function using:"
      ],
      "id": "D6e4ruNIcKWo"
    },
    {
      "cell_type": "code",
      "execution_count": null,
      "metadata": {
        "id": "oHQ6Vd7wcKWp"
      },
      "outputs": [],
      "source": [
        "omega = [0,pi]\n",
        "f = lambda x : sin(x)\n",
        "n=100\n",
        "bc = [0,0]\n",
        "A, b = finDif(omega,f, n, bc)\n",
        "#print(A)\n",
        "\n"
      ],
      "id": "oHQ6Vd7wcKWp"
    },
    {
      "cell_type": "markdown",
      "metadata": {
        "id": "UA6RIWNKcKWq"
      },
      "source": [
        "Implement two functions that compute the LU and the Cholesky factorization of the system matrix $A$"
      ],
      "id": "UA6RIWNKcKWq"
    },
    {
      "cell_type": "code",
      "execution_count": null,
      "metadata": {
        "id": "tDFSLE0pcKWq"
      },
      "outputs": [],
      "source": [
        "def LU(A):\n",
        "    A = A.copy()\n",
        "    N=len(A)\n",
        "    for k in range(N-1):\n",
        "        if (abs(A[k,k]) < 1e-15):\n",
        "            raise RuntimeError(\"Null pivot\")\n",
        "            \n",
        "        A[k+1:N,k] /= A[k,k]\n",
        "        for j in range(k+1,N):\n",
        "            A[k+1:N,j] -= A[k+1:N,k]*A[k,j]\n",
        "    \n",
        "    L=tril(A)\n",
        "    for i in range(N):\n",
        "        L[i,i]=1.0\n",
        "    U = triu(A)\n",
        "    return L, U\n",
        "\n",
        "\n",
        "L, U = LU(A)\n",
        "#print(L)\n"
      ],
      "id": "tDFSLE0pcKWq"
    },
    {
      "cell_type": "markdown",
      "source": [
        "Cholesky decomposition\n",
        "\n",
        "For symmetric and positive defined matrices, the Cholesky decomposition may be preferred respect to the since it reduces the number of flops for computing the LU decomposition by a factor of 2.\n",
        "\n",
        "The Cholesky decomposition seeks an upper triangular matrix H (with all positive elements on the diagonal) such that\n",
        "A=HTH\n",
        "\n",
        "An implementation of the Cholesky decomposition is provided in the following function. We can use it to solve the linear system by forward and backward substitution."
      ],
      "metadata": {
        "id": "h0USxmdsha7c"
      },
      "id": "h0USxmdsha7c"
    },
    {
      "cell_type": "code",
      "execution_count": null,
      "metadata": {
        "id": "2NTAyi7VcKWt"
      },
      "outputs": [],
      "source": [
        "#scipy.linalg.cholesky(A)\n",
        "\n",
        "def cholesky(A):\n",
        "    A = A.copy()\n",
        "    #print(A)\n",
        "    N = len(A)\n",
        "    for k in range(N-1):\n",
        "        A[k,k] = sqrt(A[k,k])\n",
        "        A[k+1:N,k] = A[k+1:N,k]/A[k,k]\n",
        "        \n",
        "        for j in range(k+1,N):\n",
        "            A[j:N,j] = A[j:N,j] - (A[j:N,k]*A[j,k])\n",
        "            \n",
        "    A[-1,-1] = sqrt(A[-1,-1])\n",
        "    L=tril(A)\n",
        "    return L, L.transpose()\n",
        "\n",
        "HT, H = cholesky(A)"
      ],
      "id": "2NTAyi7VcKWt"
    },
    {
      "cell_type": "markdown",
      "metadata": {
        "id": "835fB09NcKWv"
      },
      "source": [
        "Implement forward and backward substitution functions to exploit the developed factorization methods to solve the derived linear system of equations."
      ],
      "id": "835fB09NcKWv"
    },
    {
      "cell_type": "code",
      "execution_count": null,
      "metadata": {
        "id": "1N0HDatAcKWw"
      },
      "outputs": [],
      "source": [
        "def L_solve(L,rhs):\n",
        "    x = zeros_like(rhs)\n",
        "    N = len(L)\n",
        "        \n",
        "    x[0] = rhs[0]/L[0,0]\n",
        "    for i in range(1,N):\n",
        "        x[i] = (rhs[i] - dot(L[i, 0:i], x[0:i]))/L[i,i] \n",
        "    return x"
      ],
      "id": "1N0HDatAcKWw"
    },
    {
      "cell_type": "code",
      "execution_count": null,
      "metadata": {
        "id": "qFAVrrlxcKWx"
      },
      "outputs": [],
      "source": [
        "def U_solve(U,rhs):\n",
        "    x = zeros_like(rhs)\n",
        "    N = len(U)\n",
        "        \n",
        "    x[-1] = rhs[-1]/U[-1,-1]\n",
        "    \n",
        "    for i in reversed(range(N-1)):\n",
        "        x[i] = (rhs[i] - dot(U[i, (i+1):N], x[(i+1):N]))/U[i,i]\n",
        "    \n",
        "    return x"
      ],
      "id": "qFAVrrlxcKWx"
    },
    {
      "cell_type": "markdown",
      "metadata": {
        "id": "AkyPJ1b5cKWy"
      },
      "source": [
        "Solve the derived linear system using the implemented functions and plot the computed solution:"
      ],
      "id": "AkyPJ1b5cKWy"
    },
    {
      "cell_type": "code",
      "execution_count": null,
      "metadata": {
        "colab": {
          "base_uri": "https://localhost:8080/",
          "height": 283
        },
        "id": "P-P-E5a4cKWy",
        "outputId": "aa736717-86c5-492d-e0dc-f73d71f246fa"
      },
      "outputs": [
        {
          "output_type": "execute_result",
          "data": {
            "text/plain": [
              "<matplotlib.legend.Legend at 0x7f1cc85891d0>"
            ]
          },
          "metadata": {},
          "execution_count": 99
        },
        {
          "output_type": "display_data",
          "data": {
            "image/png": "[encoded data removed]",
            "text/plain": [
              "<Figure size 432x288 with 1 Axes>"
            ]
          },
          "metadata": {
            "needs_background": "light"
          }
        }
      ],
      "source": [
        "\n",
        "y_LU = L_solve(L,b)\n",
        "u_LU = U_solve(U,y_LU)\n",
        "\n",
        "y_CH = L_solve(HT,b)\n",
        "u_CH = U_solve(H,y_CH)\n",
        "\n",
        "x=linspace(0,pi,n)\n",
        "_ = plt.plot(x,u_LU,'ro', label='LU' )\n",
        "_ = plt.plot(x,u_CH,'b', label='Cholesky')\n",
        "plt.legend(loc='best')"
      ],
      "id": "P-P-E5a4cKWy"
    },
    {
      "cell_type": "markdown",
      "metadata": {
        "id": "3c-uIqZ0cKWz"
      },
      "source": [
        "Considering the new domain $\\Omega = (0,1)$ and the forcing term $f(x) = x(1-x)$ with B.C. $u(x) = 0$, on $\\partial \\Omega = {0,1}$ produce a plot and a table where you show the decay of the error w.r.t. the number of grid points.\n",
        "(The analytical solution for the above problems is $u_{an} = \\frac{x^4}{12} - \\frac{x^3}{6} + \\frac{x}{12}$)"
      ],
      "id": "3c-uIqZ0cKWz"
    },
    {
      "cell_type": "code",
      "source": [
        "omega_new = [0,1]\n",
        "f_new = lambda x : x*(1-x)\n",
        "\n",
        "bc_new = [0,0]\n",
        "\n",
        "\n",
        "fsol_an= lambda x : (pow(x,4)/12 - pow(x,3)/6 + x/12)\n",
        "\n",
        "error_approx=[]\n",
        "\n",
        "n_range = np.arange(10,501,10)\n",
        "\n",
        "for i,n_val in enumerate(n_range):\n",
        "  x=linspace(0,1,n_val)\n",
        "  A_new, b_new = finDif(omega_new, f_new, n_val, bc)\n",
        "  HT_new, H_new = cholesky(A_new)\n",
        "  y_new = L_solve(HT_new,b_new)\n",
        "  u_app = U_solve(H_new,y_new)\n",
        "  u_an = fsol_an(x)\n",
        "  error_approx.append(np.linalg.norm(np.abs(u_an - u_app), 2))\n",
        "\n",
        "#TABLE\n",
        "df = pd.DataFrame({'N' : n_range, 'error' : error_approx})  \n",
        "print(df)\n",
        "\n",
        "#PLOT\n",
        "plt.title(\"Error decay - Absolute Error vs 'N'\")\n",
        "_ = plt.semilogy(n_range, error_approx, 'o-')"
      ],
      "metadata": {
        "colab": {
          "base_uri": "https://localhost:8080/",
          "height": 1000
        },
        "id": "1Nc3Da8N4rbS",
        "outputId": "647aed65-6e5b-4925-c877-bb3f76531963"
      },
      "id": "1Nc3Da8N4rbS",
      "execution_count": null,
      "outputs": [
        {
          "output_type": "stream",
          "name": "stdout",
          "text": [
            "      N     error\n",
            "0    10  0.001936\n",
            "1    20  0.001419\n",
            "2    30  0.001167\n",
            "3    40  0.001013\n",
            "4    50  0.000908\n",
            "5    60  0.000829\n",
            "6    70  0.000768\n",
            "7    80  0.000719\n",
            "8    90  0.000678\n",
            "9   100  0.000643\n",
            "10  110  0.000614\n",
            "11  120  0.000588\n",
            "12  130  0.000565\n",
            "13  140  0.000544\n",
            "14  150  0.000526\n",
            "15  160  0.000509\n",
            "16  170  0.000494\n",
            "17  180  0.000480\n",
            "18  190  0.000467\n",
            "19  200  0.000455\n",
            "20  210  0.000444\n",
            "21  220  0.000434\n",
            "22  230  0.000425\n",
            "23  240  0.000416\n",
            "24  250  0.000407\n",
            "25  260  0.000400\n",
            "26  270  0.000392\n",
            "27  280  0.000385\n",
            "28  290  0.000378\n",
            "29  300  0.000372\n",
            "30  310  0.000366\n",
            "31  320  0.000360\n",
            "32  330  0.000355\n",
            "33  340  0.000349\n",
            "34  350  0.000344\n",
            "35  360  0.000340\n",
            "36  370  0.000335\n",
            "37  380  0.000331\n",
            "38  390  0.000326\n",
            "39  400  0.000322\n",
            "40  410  0.000318\n",
            "41  420  0.000314\n",
            "42  430  0.000311\n",
            "43  440  0.000307\n",
            "44  450  0.000304\n",
            "45  460  0.000300\n",
            "46  470  0.000297\n",
            "47  480  0.000294\n",
            "48  490  0.000291\n",
            "49  500  0.000288\n"
          ]
        },
        {
          "output_type": "display_data",
          "data": {
            "image/png": "[encoded data removed]",
            "text/plain": [
              "<Figure size 432x288 with 1 Axes>"
            ]
          },
          "metadata": {
            "needs_background": "light"
          }
        }
      ]
    },
    {
      "cell_type": "markdown",
      "metadata": {
        "id": "lZcInoqqcKW0"
      },
      "source": [
        "Exploit the derived LU factorizations to compute the condition number of the system's matrix $A$ using the original problem formulation."
      ],
      "id": "lZcInoqqcKW0"
    },
    {
      "cell_type": "code",
      "source": [
        "# Power Method Function \n",
        "def Power_Method(A,z0,tol,nmax):\n",
        "    q = z0/(linalg.norm(z0,2))\n",
        "    it = 0\n",
        "    err = tol + 1.\n",
        "    \n",
        "    while it < nmax and err > tol:\n",
        "        z = dot(A,q)\n",
        "        l = dot(q.T,z)\n",
        "        err = linalg.norm(z-l*q,2)\n",
        "        q = z/linalg.norm(z,2)\n",
        "        it += 1\n",
        "    \n",
        "    return l,q\n"
      ],
      "metadata": {
        "id": "uWsW2kwg5oIH"
      },
      "id": "uWsW2kwg5oIH",
      "execution_count": null,
      "outputs": []
    },
    {
      "cell_type": "code",
      "source": [
        "# Inverse Power Method Function \n",
        "def I_Power_Method(A,x0,mu,tol,nmax):\n",
        "    I = eye(len(A))\n",
        "    M = A - mu*I\n",
        "    L,U = LU(M)\n",
        "    q = x0/linalg.norm(x0,2)\n",
        "    err = tol + 1.0\n",
        "    it = 0\n",
        "    \n",
        "    while it < nmax and err > tol:\n",
        "        y = L_solve(L,q)\n",
        "        x = U_solve(U,y)\n",
        "        q = x/linalg.norm(x,2)\n",
        "        z = dot(A,q)\n",
        "        l = dot(q.T,z)\n",
        "        err = linalg.norm(z-l*q,2)\n",
        "        it += 1\n",
        "    return l,q "
      ],
      "metadata": {
        "id": "6HxAib_25nyS"
      },
      "id": "6HxAib_25nyS",
      "execution_count": null,
      "outputs": []
    },
    {
      "cell_type": "code",
      "source": [
        "#CONDITION NUMBER \n",
        "def condNumb(A):\n",
        "    z0 = random.rand(A.shape[0])\n",
        "    mu = 0.0\n",
        "    tol = 1.e-6\n",
        "    nmax = 10000\n",
        "    lmax = Power_Method(A,z0,tol,nmax)[0]\n",
        "    #print(lmax)\n",
        "    lmin = I_Power_Method(A,z0,mu,tol,nmax)[0]\n",
        "    condNu = lmax/lmin\n",
        "    \n",
        "    return condNu\n",
        "\n",
        "print(condNumb(A))\n",
        "print(linalg.cond(A))"
      ],
      "metadata": {
        "colab": {
          "base_uri": "https://localhost:8080/"
        },
        "id": "O8Lma34y5nYt",
        "outputId": "38b2a36f-d6a9-4973-c63f-5de66c7456ba"
      },
      "id": "O8Lma34y5nYt",
      "execution_count": null,
      "outputs": [
        {
          "output_type": "stream",
          "name": "stdout",
          "text": [
            "5294.598014455871\n",
            "5294.598016140671\n"
          ]
        }
      ]
    },
    {
      "cell_type": "markdown",
      "metadata": {
        "id": "OFaP8Q27cKW2"
      },
      "source": [
        "Implement a preconditioned Conjugant Gradient method to solve the original linear system of equations using an iterative method:"
      ],
      "id": "OFaP8Q27cKW2"
    },
    {
      "cell_type": "code",
      "execution_count": null,
      "metadata": {
        "id": "lZRWx7f0cKW3",
        "colab": {
          "base_uri": "https://localhost:8080/",
          "height": 372
        },
        "outputId": "89b44c5e-5223-4500-bd9e-71c9880aa2cf"
      },
      "outputs": [
        {
          "output_type": "stream",
          "name": "stdout",
          "text": [
            "Precision achieved. Iterations: 50\n",
            "Difference between the PCG sol and the previous sol:\n",
            "7.144872527823964e-14\n",
            "Difference between the PCG sol and the exact sol:\n",
            "6.551409247055097e-14\n"
          ]
        },
        {
          "output_type": "display_data",
          "data": {
            "image/png": "[encoded data removed]",
            "text/plain": [
              "<Figure size 432x288 with 1 Axes>"
            ]
          },
          "metadata": {
            "needs_background": "light"
          }
        }
      ],
      "source": [
        "def PCG(A, b, P, nmax=len(A), eps=1e-10):\n",
        " \n",
        "    tol = eps + 0.1\n",
        "    iter = 0\n",
        "    x = zeros_like(b)\n",
        "    residual = b - dot(A,x)\n",
        "    rho_old = 1.\n",
        "    p_old = zeros_like(b)\n",
        "    while (iter < nmax and tol > eps):\n",
        "        iter += 1\n",
        "        z = linalg.solve(P,residual)\n",
        "        rho = dot(residual,z)\n",
        "        if (iter > 1):\n",
        "            beta = rho/rho_old\n",
        "            p = z + beta*p_old\n",
        "        else:\n",
        "            p = z\n",
        "        q = dot(A,p)\n",
        "        alpha = rho/(dot(p,q))\n",
        "        x += p*alpha\n",
        "        residual -= q*alpha\n",
        "        p_old = p\n",
        "        rho_old = rho\n",
        "        tol = linalg.norm(residual,2)  \n",
        "\n",
        "    if iter <nmax:\n",
        "        print('Precision achieved. Iterations:', iter)\n",
        "    else:\n",
        "        print('Convergence failed.')\n",
        "\n",
        "    return x\n",
        "\n",
        "\n",
        "\n",
        "x=linspace(omega[0],omega[1],n)\n",
        "sol_conjugate_gradient = PCG(A,b,identity(len(A)))\n",
        "\n",
        "# Old solution\n",
        "w = L_solve(L,b)\n",
        "u = U_solve(U,w)\n",
        "\n",
        "# Scipy solution\n",
        "\n",
        "u_ex = scipy.linalg.solve(A, b)\n",
        "# plot\n",
        "plt.title('Comparison of exact and PCG solutions')\n",
        "_ = plt.plot(x,sol_conjugate_gradient,'yo', label='PCG')\n",
        "_ = plt.plot(x,u_ex,'g', label='exact')\n",
        "plt.legend(loc='best')\n",
        "\n",
        "print(\"Difference between the PCG sol and the previous sol:\")\n",
        "print(linalg.norm(sol_conjugate_gradient - u)/linalg.norm(u))\n",
        "\n",
        "print(\"Difference between the PCG sol and the exact sol:\")\n",
        "print(linalg.norm(sol_conjugate_gradient-u_ex)/linalg.norm(u_ex))\n"
      ],
      "id": "lZRWx7f0cKW3"
    },
    {
      "cell_type": "markdown",
      "metadata": {
        "id": "wO5xEjzPcKW3"
      },
      "source": [
        "Consider the following time dependent variation of the PDE starting from the orginal problem formulation:\n",
        "$$\n",
        "u'(t)-u_{xx} = \\alpha(t)f(x)\n",
        "$$\n",
        "\n",
        "for $t\\in [0,T]$, with $\\alpha(t) = \\cos(t)$ and $T = 6\\pi$\n",
        "\n",
        "Use the same finite difference scheme to derive the semi-discrete formulation and solve it using a forward Euler's method.\n",
        "\n",
        "Plot the time dependent solution solution at $x = \\pi/2$, $x=1$, \n",
        "$x=\\pi$\n"
      ],
      "id": "wO5xEjzPcKW3"
    },
    {
      "cell_type": "markdown",
      "source": [
        "f(t+1,x) = f(t,x) + h*Au + alpha*f\n",
        "\n"
      ],
      "metadata": {
        "id": "hRAk1Vb611SL"
      },
      "id": "hRAk1Vb611SL"
    },
    {
      "cell_type": "markdown",
      "source": [
        "First, we discretize the time using the Forward Euler approximation for the first derivative with respect to $t$ : \n",
        "$$ \\frac{∂ u}{∂ t} (x, t) \\sim  \\frac{u(x, t_{n+1} ) - u (x, t_n)}{h_t}$$\n",
        "This allows us to rewrite the time-dependent solution of the PDE as:\n",
        "$$ u(x, t_{n+1} ) = u (x, t_n) + h_t u_{xx} (x, t_n) + h_t \\alpha (t_n) f (x) $$\n",
        "\n",
        "Then, we adopt the finite difference scheme used in the first point for the spatial derivative:\n",
        "$$u_{xx}(x_i,t) = \\frac{-u(x_{i-2},t)+16u(x_{i-1}, t)-30u(x_i, t)+16u(x_{i+1}, t) -u (x_{i+2}, t)}{12h_x^2}$$\n",
        "and substituting this in the previous expression, we obtain\n",
        "\n",
        "$$ u(x_i, t_{n+1} ) = u (x_i, t_n) + h_t  \\frac{-u(x_{i-2},t)+16u(x_{i-1}, t)-30u(x_i, t)+16u(x_{i+1}, t) -u (x_{i+2}, t)}{12h_x^2} + h_t \\alpha (t_n) f (x_i) $$\n",
        "\n",
        "that can be rewritten in a more useful form as:\n",
        "$$ u(x_i, t_{n+1} ) =   h_t  \\frac{-u(x_{i-2},t)+16u(x_{i-1}, t)+(-30 + 12 h_x^2/h_t) u(x_i, t)+16u(x_{i+1}, t) -u (x_{i+2}, t)}{12h_x^2} + h_t \\alpha (t_n) f (x_i) $$ ."
      ],
      "metadata": {
        "id": "LCWUadC8VE2C"
      },
      "id": "LCWUadC8VE2C"
    },
    {
      "cell_type": "code",
      "source": [
        "\n",
        "\n",
        "def Forward_Euler(u0, f, alpha, Omega_x, Omega_t, Nx, Nt):\n",
        "    if not isinstance(u0, ndarray):\n",
        "        u0 = repeat(u0, Nx)\n",
        "    \n",
        "    ht = (Omega_t[1] - Omega_t[0]) / (Nt-1)\n",
        "    hx = (Omega_x[1] - Omega_x[0]) / (Nx-1)\n",
        "    \n",
        "    xs = linspace(Omega_x[0],Omega_x[1], Nx)\n",
        "    ts = linspace(Omega_t[0],Omega_t[1], Nt)\n",
        "\n",
        "    #A = zeros((Nx,Nx), dtype=float)\n",
        " \n",
        "    ood = -1.0*ones((Nx-2,))\n",
        "    od  = 16*ones((Nx-1,))\n",
        "    d   = (-30 + 12.0*pow(hx,2)/ht)*ones((Nx,))\n",
        "    A   = (diag(ood,-2) + diag(od,-1) + diag(d,0) + diag(od,+1) + diag(ood,+2))\n",
        "    A   = ht*A/(12.0*pow(hx,2))\n",
        "    A[0,:]= 0\n",
        "    A[-1,:]=0\n",
        "    \n",
        "    f = vectorize(f)(xs)\n",
        "    \n",
        "    u = zeros((Nx, Nt), dtype=float)\n",
        "    u[:,0] = u0\n",
        "    \n",
        "    # boundary conditions\n",
        "    u[[0,-1],0] = 0\n",
        "    f[[0,-1]] = 0\n",
        "    \n",
        "    for i in range(1,Nt):\n",
        "        u[:,i] = A.dot(u[:,i-1]) + ht * alpha(i*ht) * f\n",
        "        \n",
        "    return xs,ts,u\n",
        "\n",
        "\n",
        "\n",
        "\n",
        "alpha_function = lambda x: cos(x)\n",
        "f = lambda x: sin(x)\n",
        "\n",
        "x_50, t_50, u_50 = Forward_Euler(0, f, alpha_function, (0,pi), (0,6*pi), Nx=50, Nt=100000)\n",
        "x_1000, t_1000, u_1000 = Forward_Euler(0, f, alpha_function, (0,pi), (0,6*pi), Nx=1000, Nt=100000)\n",
        "\n",
        "\n",
        "\n",
        "#time dependent solution solution at x=π/2, x=1, x=π\n",
        "\n",
        "def plot_xfixed_solution(xs,ts,u,Nx,Nt):\n",
        "\n",
        "    pi_2_idx = argmin(abs(xs - pi/2))\n",
        "    one_idx = argmin(abs(xs - 1))\n",
        "    pi_idx = -1\n",
        "    \n",
        "    approx_pi2 = round(xs[pi_2_idx],4)\n",
        "    approx_one = round(xs[one_idx],4)\n",
        "    approx_pi = round(xs[pi_idx], 4)\n",
        "\n",
        "    time_slice = slice(None,None,100)\n",
        "\n",
        "    \n",
        "    plt.plot(ts[time_slice], u[pi_2_idx,time_slice], '-', label=r'$x=\\pi/2$' )\n",
        "    plt.plot(ts[time_slice], u[one_idx,time_slice], '-.', label='x=1')\n",
        "    plt.plot(ts[time_slice], u[pi_idx,time_slice], '--', label=r'$x=\\pi$')\n",
        "\n",
        "    plt.xticks([i*pi for i in range(7)], ['0', *('{}$\\\\pi$'.format(i) for i in range(1,7))])\n",
        "\n",
        "    plt.xlabel('t')\n",
        "    plt.ylabel('u(x,t)')\n",
        "\n",
        "    plt.title('Time dependent solution (Nx={}, Nt={})'.format(Nx,Nt))\n",
        "    plt.legend(loc='best')\n",
        "    \n",
        "print(\"Initial condition: y(0)=0\")\n",
        "x_100, t_100, u_100 = Forward_Euler(0, f, alpha_function, (0,pi), (0,6*pi), Nx=100, Nt=100000)\n",
        "plt.figure(1)\n",
        "plot_xfixed_solution(x_100, t_100, u_100, 100, 100000)\n",
        "\n",
        "print(\"Initial condition: y(0)=sin(x)\")\n",
        "\n",
        "N_x=100\n",
        "x=linspace(0,pi,N_x)\n",
        "\n",
        "x_100, t_100, u_100 = Forward_Euler(sin(x), f, alpha_function, (0,pi), (0,6*pi), Nx=N_x, Nt=100000)\n",
        "\n",
        "plt.figure(2)\n",
        "plot_xfixed_solution(x_100, t_100, u_100, 100, 100000)"
      ],
      "metadata": {
        "id": "TObfBGCMU7Gy",
        "colab": {
          "base_uri": "https://localhost:8080/",
          "height": 605
        },
        "outputId": "fa3c4e57-7ca8-4809-b630-40ea084485b3"
      },
      "id": "TObfBGCMU7Gy",
      "execution_count": 9,
      "outputs": [
        {
          "output_type": "stream",
          "name": "stdout",
          "text": [
            "Initial condition: y(0)=0\n",
            "Initial condition: y(0)=sin(x)\n"
          ]
        },
        {
          "output_type": "display_data",
          "data": {
            "image/png": "[encoded data removed]",
            "text/plain": [
              "<Figure size 432x288 with 1 Axes>"
            ]
          },
          "metadata": {}
        },
        {
          "output_type": "display_data",
          "data": {
            "image/png": "[encoded data removed]",
            "text/plain": [
              "<Figure size 432x288 with 1 Axes>"
            ]
          },
          "metadata": {}
        }
      ]
    },
    {
      "cell_type": "markdown",
      "metadata": {
        "id": "jQjA_iN0cKW3"
      },
      "source": [
        "Given the original $Au = b$ system, implement an algorithm to compute the eigenvalues and eigenvectors of the matrix $A$. Exploit the computed LU factorization"
      ],
      "id": "jQjA_iN0cKW3"
    },
    {
      "cell_type": "code",
      "execution_count": null,
      "metadata": {
        "id": "IY8U-8tzcKW4",
        "colab": {
          "base_uri": "https://localhost:8080/",
          "height": 372
        },
        "outputId": "03b58a92-1acb-404a-b72f-2f71d78ad0cf"
      },
      "outputs": [
        {
          "output_type": "error",
          "ename": "KeyboardInterrupt",
          "evalue": "ignored",
          "traceback": [
            "\u001b[0;31m---------------------------------------------------------------------------\u001b[0m",
            "\u001b[0;31mKeyboardInterrupt\u001b[0m                         Traceback (most recent call last)",
            "\u001b[0;32m<ipython-input-104-df732e0aa9eb>\u001b[0m in \u001b[0;36m<module>\u001b[0;34m()\u001b[0m\n\u001b[1;32m     37\u001b[0m \u001b[0mnmax\u001b[0m \u001b[0;34m=\u001b[0m \u001b[0;36m10000\u001b[0m\u001b[0;34m\u001b[0m\u001b[0;34m\u001b[0m\u001b[0m\n\u001b[1;32m     38\u001b[0m \u001b[0mtol\u001b[0m \u001b[0;34m=\u001b[0m \u001b[0;36m1e-10\u001b[0m\u001b[0;34m\u001b[0m\u001b[0;34m\u001b[0m\u001b[0m\n\u001b[0;32m---> 39\u001b[0;31m \u001b[0meigenvalues\u001b[0m\u001b[0;34m=\u001b[0m\u001b[0meigenvalues_LU\u001b[0m\u001b[0;34m(\u001b[0m\u001b[0mA\u001b[0m\u001b[0;34m,\u001b[0m\u001b[0mtol\u001b[0m\u001b[0;34m,\u001b[0m\u001b[0;36m1000\u001b[0m\u001b[0;34m)\u001b[0m\u001b[0;34m\u001b[0m\u001b[0;34m\u001b[0m\u001b[0m\n\u001b[0m\u001b[1;32m     40\u001b[0m \u001b[0mnew_eigenvalues\u001b[0m\u001b[0;34m,\u001b[0m \u001b[0meigenvectors\u001b[0m \u001b[0;34m=\u001b[0m \u001b[0meigenvectors_LU\u001b[0m\u001b[0;34m(\u001b[0m\u001b[0mA\u001b[0m\u001b[0;34m,\u001b[0m\u001b[0mtol\u001b[0m\u001b[0;34m,\u001b[0m\u001b[0mnmax\u001b[0m\u001b[0;34m)\u001b[0m\u001b[0;34m\u001b[0m\u001b[0;34m\u001b[0m\u001b[0m\n\u001b[1;32m     41\u001b[0m \u001b[0;34m\u001b[0m\u001b[0m\n",
            "\u001b[0;32m<ipython-input-104-df732e0aa9eb>\u001b[0m in \u001b[0;36meigenvalues_LU\u001b[0;34m(A, tol, Nmax_iterations)\u001b[0m\n\u001b[1;32m      8\u001b[0m         \u001b[0mL\u001b[0m\u001b[0;34m,\u001b[0m\u001b[0mU\u001b[0m \u001b[0;34m=\u001b[0m \u001b[0mLU\u001b[0m\u001b[0;34m(\u001b[0m\u001b[0mB\u001b[0m\u001b[0;34m)\u001b[0m\u001b[0;34m\u001b[0m\u001b[0;34m\u001b[0m\u001b[0m\n\u001b[1;32m      9\u001b[0m         \u001b[0;31m#B = U@L\u001b[0m\u001b[0;34m\u001b[0m\u001b[0;34m\u001b[0m\u001b[0;34m\u001b[0m\u001b[0m\n\u001b[0;32m---> 10\u001b[0;31m         \u001b[0mB\u001b[0m \u001b[0;34m=\u001b[0m \u001b[0mmatmul\u001b[0m\u001b[0;34m(\u001b[0m\u001b[0mU\u001b[0m\u001b[0;34m,\u001b[0m\u001b[0mL\u001b[0m\u001b[0;34m)\u001b[0m\u001b[0;34m\u001b[0m\u001b[0;34m\u001b[0m\u001b[0m\n\u001b[0m\u001b[1;32m     11\u001b[0m         \u001b[0meigval_new\u001b[0m \u001b[0;34m=\u001b[0m \u001b[0mdiag\u001b[0m\u001b[0;34m(\u001b[0m\u001b[0mB\u001b[0m\u001b[0;34m)\u001b[0m\u001b[0;34m\u001b[0m\u001b[0;34m\u001b[0m\u001b[0m\n\u001b[1;32m     12\u001b[0m         \u001b[0merr\u001b[0m \u001b[0;34m=\u001b[0m \u001b[0mlinalg\u001b[0m\u001b[0;34m.\u001b[0m\u001b[0mnorm\u001b[0m\u001b[0;34m(\u001b[0m\u001b[0meigval_new\u001b[0m \u001b[0;34m-\u001b[0m \u001b[0meigval_old\u001b[0m\u001b[0;34m,\u001b[0m\u001b[0;36m2\u001b[0m\u001b[0;34m)\u001b[0m\u001b[0;34m\u001b[0m\u001b[0;34m\u001b[0m\u001b[0m\n",
            "\u001b[0;31mKeyboardInterrupt\u001b[0m: "
          ]
        }
      ],
      "source": [
        "def eigenvalues_LU(A,tol,Nmax_iterations=2000):\n",
        "    B = A.copy()\n",
        "    eigval_old = diag(B)\n",
        "    err = tol+1.0\n",
        "    it = 0\n",
        "    \n",
        "    while it < Nmax_iterations and err > tol:\n",
        "        L,U = LU(B)\n",
        "        #B = U@L\n",
        "        B = matmul(U,L)\n",
        "        eigval_new = diag(B)  \n",
        "        err = linalg.norm(eigval_new - eigval_old,2)\n",
        "        it += 1\n",
        "        eigval_old = eigval_new\n",
        "        \n",
        "    return eigval_new\n",
        "\n",
        "def eigenvectors_LU(A,tol,nmax):\n",
        "    \"\"\"\n",
        "    this function estimates the eigenvectors of the matrix A\n",
        "    using the Inverse Power Method with shift, and exploiting \n",
        "    the LU decomposition of A for the estimation of the eigenvalues.\n",
        "    \"\"\"\n",
        "\n",
        "    eigvecs = zeros_like(A)\n",
        "    n=A.shape[0]\n",
        "    q = np.random.rand(n)\n",
        "    new_eigvals=zeros_like(n)\n",
        "    eigvals = eigenvalues_LU(A,tol,1000)\n",
        "    for i in range(len(eigvals)):\n",
        "        eigval_val, eigvec_val = I_Power_Method(A,q,eigvals[i]+tol,tol,nmax)\n",
        "        new_eigvals[i] = eigval_val\n",
        "        eigvecs[i,:] = eigvec_val\n",
        "         \n",
        "    return new_eigvals, eigvecs\n",
        "\n",
        "nmax = 10000\n",
        "tol = 1e-10\n",
        "eigenvalues=eigenvalues_LU(A,tol,1000)\n",
        "new_eigenvalues, eigenvectors = eigenvectors_LU(A,tol,nmax)\n",
        "\n",
        "eigenvalues_numpy,eigenvectors_numpy = linalg.eig(A)\n",
        "\n",
        "diff_lambda= sort(eigenvalues)-sort(eigenvalues_numpy)\n",
        "\n",
        "print(diff_lambda)\n",
        "\n",
        "print('max discrepancy lambda:', np.max(diff_lambda))"
      ],
      "id": "IY8U-8tzcKW4"
    },
    {
      "cell_type": "code",
      "source": [
        "def lueig(A,iterations=1000):\n",
        "    n = A.shape[0]\n",
        "    eigvals = np.zeros(n)\n",
        "    L, U = LU(A)\n",
        "    it = 0\n",
        "    new_A = ones_like(A)\n",
        "    while(it<iterations):\n",
        "        new_A = U@L\n",
        "        L, U = LU(new_A)\n",
        "        it = it+1\n",
        "    eigvals = np.diag(new_A) \n",
        "    return eigvals\n",
        "\n",
        "def eig(A,eps=1e-10):\n",
        "    n = A.shape[0]\n",
        "    x=linspace(0,1,n)\n",
        "    z0 = ones_like(x)\n",
        "    eigvals = np.zeros(n)\n",
        "    eigvecs = np.zeros((n,n))\n",
        "    lueigvals = lueig(A)\n",
        "    for i, qre in enumerate(lueigvals):\n",
        "        eigvals[i], eigvecs[:,i] = I_Power_Method(A,z0,qre+eps,1e-10,10000 )\n",
        "    return eigvals, eigvecs\n",
        "\n",
        "l,v = eig(A)\n",
        "l_numpy,v_numpy = linalg.eig(A)\n",
        "print(sort(l)-sort(l_numpy))\n",
        "print(sort(v)-sort(v_numpy))\n"
      ],
      "metadata": {
        "colab": {
          "base_uri": "https://localhost:8080/"
        },
        "id": "f04xvKejYY2A",
        "outputId": "82e06b5e-0ccb-4a4e-b5ef-e4887857efa7"
      },
      "id": "f04xvKejYY2A",
      "execution_count": null,
      "outputs": [
        {
          "output_type": "stream",
          "name": "stdout",
          "text": [
            "[ 2.22044605e-16  2.22044605e-16  8.76410056e-13  7.14983628e-13\n",
            "  4.44089210e-14  3.05533376e-13 -3.55271368e-14 -1.35003120e-13\n",
            "  1.15818466e-12  5.11590770e-13  1.70530257e-13  4.97379915e-13\n",
            " -3.12638804e-13  2.84217094e-14 -8.52651283e-13  7.67386155e-13\n",
            "  0.00000000e+00  1.19371180e-12  1.02318154e-12  6.25277607e-13\n",
            " -7.38964445e-13 -1.13686838e-13 -9.66338121e-13 -1.70530257e-13\n",
            " -5.68434189e-13 -3.41060513e-13  1.81898940e-12  5.68434189e-13\n",
            " -1.13686838e-13  7.95807864e-13 -9.09494702e-13  1.36424205e-12\n",
            " -2.04636308e-12  1.13686838e-12  5.68434189e-12  4.09272616e-12\n",
            " -9.09494702e-13 -2.27373675e-13 -2.27373675e-13 -1.36424205e-12\n",
            " -1.36424205e-12  1.02318154e-11 -8.86757334e-12 -4.09272616e-12\n",
            " -9.09494702e-13 -4.32009983e-12 -3.63797881e-12 -2.27373675e-13\n",
            " -4.09272616e-12 -1.22781785e-11 -5.91171556e-12 -3.63797881e-12\n",
            " -4.54747351e-12  2.72848411e-12 -2.27373675e-12  1.81898940e-12\n",
            "  2.72848411e-12  9.09494702e-13  8.64019967e-12  1.04591891e-11\n",
            "  8.18545232e-12  1.40971679e-11  9.09494702e-12  1.00044417e-11\n",
            "  1.36424205e-12 -5.45696821e-12  5.45696821e-12  9.09494702e-13\n",
            " -1.45519152e-11 -7.27595761e-12  4.09272616e-12  2.72848411e-12\n",
            " -1.27329258e-11 -1.27329258e-11 -6.36646291e-12 -9.09494702e-12\n",
            "  3.63797881e-12 -2.00088834e-11  9.09494702e-12  6.36646291e-12\n",
            " -1.63709046e-11 -8.18545232e-12 -5.45696821e-12  4.54747351e-12\n",
            "  0.00000000e+00 -7.27595761e-12 -1.63709046e-11 -9.09494702e-13\n",
            " -1.81898940e-12  7.27595761e-12  6.36646291e-12 -8.18545232e-12\n",
            " -8.18545232e-12 -4.54747351e-12  5.45696821e-12 -1.81455650e+01\n",
            " -1.48861666e+01 -1.16029470e+01 -8.30113763e+00 -4.98601661e+00]\n",
            "[[-3.56903214e-09 -1.30334383e-16 -1.42876443e-17 ...  4.98381751e-16\n",
            "   7.07106781e-01 -2.92893219e-01]\n",
            " [-3.77475828e-15 -2.71599240e-04 -4.68395641e-04 ... -2.03487738e-04\n",
            "  -6.81115014e-05  3.35842465e-15]\n",
            " [ 1.05722987e-04  1.95784866e-04  6.17738855e-05 ...  5.61471104e-06\n",
            "   3.01507853e-04  7.49400542e-16]\n",
            " ...\n",
            " [-1.55431223e-15  1.05722987e-04  4.00754068e-04 ...  5.61591743e-05\n",
            "   2.10583914e-04  5.06477055e-04]\n",
            " [ 1.47345959e-03  1.68301196e-03  7.91058712e-03 ...  6.81115014e-05\n",
            "  -8.85402862e-15 -1.58206781e-15]\n",
            " [-3.56903214e-09 -1.30334383e-16 -1.42876443e-17 ...  4.98381751e-16\n",
            "   7.07106781e-01 -2.92893219e-01]]\n"
          ]
        }
      ]
    },
    {
      "cell_type": "markdown",
      "metadata": {
        "id": "0OOqoKYhcKW4"
      },
      "source": [
        "Compute the inverse of the matrix A exploiting the derived LU factorization"
      ],
      "id": "0OOqoKYhcKW4"
    },
    {
      "cell_type": "code",
      "execution_count": null,
      "metadata": {
        "colab": {
          "base_uri": "https://localhost:8080/"
        },
        "id": "l5eD9UzCcKW5",
        "outputId": "cb58afc3-fafd-443f-81fc-e4338cfbdce6"
      },
      "outputs": [
        {
          "output_type": "stream",
          "name": "stdout",
          "text": [
            "Max error between the 2 matrices = \n",
            "2.813721478034381e-15\n"
          ]
        }
      ],
      "source": [
        "from scipy.linalg import solve\n",
        "\n",
        "I = identity(n)\n",
        "Y= solve(L,I,lower=True)\n",
        "A_inv_LU = solve(U,Y)\n",
        "\n",
        "\n",
        "\n",
        "\n",
        "A_inv_numpy = linalg.inv(A)\n",
        "\n",
        "print(\"Max error between the 2 matrices = \")\n",
        "print(max(np.abs(A_inv_LU - A_inv_numpy).max(axis=0)))\n",
        "\n",
        "\n",
        "#print(A_inverse)\n"
      ],
      "id": "l5eD9UzCcKW5"
    },
    {
      "cell_type": "markdown",
      "metadata": {
        "id": "lA58-2ogcKW5"
      },
      "source": [
        "Consider the following Cauchy problem\n",
        "$$\n",
        "\\begin{cases}\n",
        "y'= -ty^2 \\quad 0\\le t \\le 2\\\\\n",
        "y(0) = 1\n",
        "\\end{cases}\n",
        "$$\n",
        "Implement a Backward Euler's method in a suitable function and solve the resulting non-linear equation using a Newton's method."
      ],
      "id": "lA58-2ogcKW5"
    },
    {
      "cell_type": "code",
      "source": [
        "# Newton's Method function\n",
        "def Newton(f,f_prime,x0,eps,nmax):\n",
        "    assert abs(f_prime(x0)) > 1e-16\n",
        "    err = abs(f(x0))\n",
        "    errors = [err]\n",
        "    it = 0\n",
        "    x = x0\n",
        "    \n",
        "    while (err > eps and it < nmax):\n",
        "        qk = f_prime(x)\n",
        "        if abs(qk) < 1e-12:\n",
        "            raise RuntimeError(\"f_prime(x) is close to zero\")\n",
        "        \n",
        "        x_new = x - f(x)/qk \n",
        "        err = abs(f(x_new))\n",
        "        \n",
        "        x = x_new\n",
        "        errors.append(err)\n",
        "        it += 1\n",
        "            \n",
        "        #plt.semilogy(errors)\n",
        "\n",
        "    return x, errors\n",
        "\n",
        "# Backward Euler Method Function\n",
        "def B_Euler(y0,t0,tf,h):\n",
        "    timesteps = arange(t0, tf+1e-10, h)\n",
        "    t = timesteps\n",
        "    sol = zeros_like(timesteps)\n",
        "    sol[0] = y0\n",
        "    eps = 1e-5\n",
        "    n_max = 1000\n",
        "    \n",
        "    for i in range(1, len(sol)):\n",
        "        f = lambda y: t[i]*h*y**2 + y - sol[i-1]\n",
        "        df = lambda y: 2*t[i]*h*y + 1\n",
        "        sol[i],_ = Newton(f, df, sol[i-1], eps, n_max)\n",
        "\n",
        "    return sol, timesteps\n",
        "\n",
        "# Plot solution of Cauchy Problem\n",
        "\n",
        "t_0 = 0.0\n",
        "t_f = 2.0\n",
        "y0 = 1.0\n",
        "\n",
        "y,t = B_Euler(y0, t_0, t_f, 0.05)\n",
        "y_ex = 2.0/(t*t + 2.0)\n",
        "\n",
        "plt.title(\"Solution of $y'=-ty^2 , y(0)=1$\" )\n",
        "plt.grid(True)\n",
        "plt.plot(t, y, 'rd', label='estimated solution')\n",
        "plt.plot(t, y_ex, 'g-', label='exact solution')\n",
        "plt.legend()"
      ],
      "metadata": {
        "colab": {
          "base_uri": "https://localhost:8080/",
          "height": 303
        },
        "id": "Xg8X-otg-Ipo",
        "outputId": "31d8a7e9-546f-4d43-de39-801d685d9b6f"
      },
      "id": "Xg8X-otg-Ipo",
      "execution_count": null,
      "outputs": [
        {
          "output_type": "execute_result",
          "data": {
            "text/plain": [
              "<matplotlib.legend.Legend at 0x7f1cc8422a90>"
            ]
          },
          "metadata": {},
          "execution_count": 94
        },
        {
          "output_type": "display_data",
          "data": {
            "image/png": "[encoded data removed]",
            "text/plain": [
              "<Figure size 432x288 with 1 Axes>"
            ]
          },
          "metadata": {
            "needs_background": "light"
          }
        }
      ]
    }
  ],
  "metadata": {
    "kernelspec": {
      "display_name": "Python 3",
      "language": "python",
      "name": "python3"
    },
    "language_info": {
      "codemirror_mode": {
        "name": "ipython",
        "version": 3
      },
      "file_extension": ".py",
      "mimetype": "text/x-python",
      "name": "python",
      "nbconvert_exporter": "python",
      "pygments_lexer": "ipython3",
      "version": "3.6.9"
    },
    "colab": {
      "name": "Copia di Final-project-2021-2022-DiGioia.ipynb",
      "provenance": [],
      "collapsed_sections": [],
      "include_colab_link": true
    }
  },
  "nbformat": 4,
  "nbformat_minor": 5
}